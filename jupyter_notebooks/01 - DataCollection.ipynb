{
 "cells": [
  {
   "cell_type": "markdown",
   "id": "4f78aee1",
   "metadata": {},
   "source": [
    "# **Data Collection Notebook**"
   ]
  },
  {
   "cell_type": "markdown",
   "id": "76916181",
   "metadata": {},
   "source": [
    "## Objectives\n",
    "\n",
    "* Fetch data from Kaggle and save it as raw data.\n",
    "* Inspect the data and save it under outputs/datasets/collection\n",
    "\n",
    "## Inputs\n",
    "\n",
    "*   Kaggle JSON file - the authentication token.\n",
    "\n",
    "## Outputs\n",
    "\n",
    "* Generate Dataset: outputs/datasets/collection/TelcoCustomerChurn.csv\n",
    "\n",
    "## Additional Comment\n",
    "\n",
    "\n",
    "* For this project, we are fetching the data from Kaggle."
   ]
  },
  {
   "cell_type": "markdown",
   "id": "4a2f855f",
   "metadata": {},
   "source": [
    "---"
   ]
  },
  {
   "cell_type": "markdown",
   "id": "d86811b2",
   "metadata": {},
   "source": [
    "# Install python packages in the notebooks"
   ]
  },
  {
   "cell_type": "markdown",
   "id": "8bf99908",
   "metadata": {},
   "source": [
    "# Change working directory"
   ]
  },
  {
   "cell_type": "markdown",
   "id": "95afd517",
   "metadata": {},
   "source": [
    "We need to change the working directory from its current folder to its parent folder\n",
    "* We access the current directory with os.getcwd()"
   ]
  },
  {
   "cell_type": "code",
   "execution_count": 1,
   "id": "c89bda25",
   "metadata": {},
   "outputs": [
    {
     "data": {
      "text/plain": [
       "'/workspaces/p5test/jupyter_notebooks'"
      ]
     },
     "execution_count": 1,
     "metadata": {},
     "output_type": "execute_result"
    }
   ],
   "source": [
    "import os\n",
    "current_dir = os.getcwd()\n",
    "current_dir"
   ]
  },
  {
   "cell_type": "markdown",
   "id": "adfffcc1",
   "metadata": {},
   "source": [
    "We want to make the parent of the current directory the new current directory.\n",
    "* os.path.dirname() gets the parent directory\n",
    "* os.chir() defines the new current directory"
   ]
  },
  {
   "cell_type": "code",
   "execution_count": 2,
   "id": "4c7ca628",
   "metadata": {},
   "outputs": [
    {
     "name": "stdout",
     "output_type": "stream",
     "text": [
      "You set a new current directory\n"
     ]
    }
   ],
   "source": [
    "os.chdir(os.path.dirname(current_dir))\n",
    "print(\"You set a new current directory\")"
   ]
  },
  {
   "cell_type": "markdown",
   "id": "879ea446",
   "metadata": {},
   "source": [
    "Confirm the new current directory"
   ]
  },
  {
   "cell_type": "code",
   "execution_count": 3,
   "id": "3ed79cf2",
   "metadata": {},
   "outputs": [
    {
     "data": {
      "text/plain": [
       "'/workspaces/p5test'"
      ]
     },
     "execution_count": 3,
     "metadata": {},
     "output_type": "execute_result"
    }
   ],
   "source": [
    "current_dir = os.getcwd()\n",
    "current_dir"
   ]
  },
  {
   "cell_type": "markdown",
   "id": "463e6999",
   "metadata": {},
   "source": [
    "# Fetch data from Kaggle"
   ]
  },
  {
   "cell_type": "markdown",
   "id": "abaeef5c",
   "metadata": {},
   "source": [
    "Install Kaggle package to fetch data"
   ]
  },
  {
   "cell_type": "code",
   "execution_count": 4,
   "id": "603b11da",
   "metadata": {},
   "outputs": [
    {
     "name": "stdout",
     "output_type": "stream",
     "text": [
      "Requirement already satisfied: kaggle==1.5.12 in /usr/local/python/3.12.1/lib/python3.12/site-packages (1.5.12)\n",
      "Requirement already satisfied: six>=1.10 in /home/codespace/.local/lib/python3.12/site-packages (from kaggle==1.5.12) (1.17.0)\n",
      "Requirement already satisfied: certifi in /home/codespace/.local/lib/python3.12/site-packages (from kaggle==1.5.12) (2025.7.9)\n",
      "Requirement already satisfied: python-dateutil in /home/codespace/.local/lib/python3.12/site-packages (from kaggle==1.5.12) (2.9.0.post0)\n",
      "Requirement already satisfied: requests in /home/codespace/.local/lib/python3.12/site-packages (from kaggle==1.5.12) (2.32.4)\n",
      "Requirement already satisfied: tqdm in /usr/local/python/3.12.1/lib/python3.12/site-packages (from kaggle==1.5.12) (4.67.1)\n",
      "Requirement already satisfied: python-slugify in /usr/local/python/3.12.1/lib/python3.12/site-packages (from kaggle==1.5.12) (8.0.4)\n",
      "Requirement already satisfied: urllib3 in /home/codespace/.local/lib/python3.12/site-packages (from kaggle==1.5.12) (2.5.0)\n",
      "Requirement already satisfied: text-unidecode>=1.3 in /usr/local/python/3.12.1/lib/python3.12/site-packages (from python-slugify->kaggle==1.5.12) (1.3)\n",
      "Requirement already satisfied: charset_normalizer<4,>=2 in /home/codespace/.local/lib/python3.12/site-packages (from requests->kaggle==1.5.12) (3.4.2)\n",
      "Requirement already satisfied: idna<4,>=2.5 in /home/codespace/.local/lib/python3.12/site-packages (from requests->kaggle==1.5.12) (3.10)\n",
      "Note: you may need to restart the kernel to use updated packages.\n"
     ]
    }
   ],
   "source": [
    "%pip install kaggle==1.5.12"
   ]
  },
  {
   "cell_type": "markdown",
   "id": "9ee147e6",
   "metadata": {},
   "source": [
    "In the Data Collection Section notebook we studied how to download a **JSON file (authentication token)** from Kaggle. That is needed to authenticate Kaggle to download data in this session.\n",
    "* You will need **kaggle.json** available\n",
    "* In case you don't have it, please refer to the Data Collection > Data Collection Unit 1: Getting Your Data notebook."
   ]
  },
  {
   "cell_type": "markdown",
   "id": "2a4aeae2",
   "metadata": {},
   "source": [
    "---\n",
    "---"
   ]
  },
  {
   "cell_type": "code",
   "execution_count": 5,
   "id": "9120c946",
   "metadata": {},
   "outputs": [],
   "source": [
    "import os\n",
    "os.environ['KAGGLE_CONFIG_DIR'] = os.getcwd()\n",
    "! chmod 600 kaggle.json"
   ]
  },
  {
   "cell_type": "markdown",
   "id": "b8242061",
   "metadata": {},
   "source": [
    "---\n",
    "---"
   ]
  },
  {
   "cell_type": "markdown",
   "id": "4cd9724f",
   "metadata": {},
   "source": [
    "Get the dataset path from the Kaggle url\n",
    "* When you are viewing the dataset at Kaggle, check what is after https://www.kaggle.com/ ."
   ]
  },
  {
   "cell_type": "markdown",
   "id": "87f7add6",
   "metadata": {},
   "source": [
    "Define the Kaggle dataset, and destination folder and download it."
   ]
  },
  {
   "cell_type": "code",
   "execution_count": 6,
   "id": "2d30ffaf",
   "metadata": {},
   "outputs": [
    {
     "name": "stdout",
     "output_type": "stream",
     "text": [
      "housing-prices-data.zip: Skipping, found more recently modified local copy (use --force to force download)\n"
     ]
    }
   ],
   "source": [
    "KaggleDatasetPath = \"codeinstitute/housing-prices-data\"\n",
    "DestinationFolder = \"inputs/datasets/raw\"   \n",
    "! kaggle datasets download -d {KaggleDatasetPath} -p {DestinationFolder}"
   ]
  },
  {
   "cell_type": "markdown",
   "id": "ee20a414",
   "metadata": {},
   "source": [
    "Unzip the downloaded file, delete the zip file and delete the kaggle.json file"
   ]
  },
  {
   "cell_type": "code",
   "execution_count": 23,
   "id": "7619d7ab",
   "metadata": {},
   "outputs": [
    {
     "name": "stdout",
     "output_type": "stream",
     "text": [
      "unzip:  cannot find or open inputs/datasets/raw/*.zip, inputs/datasets/raw/*.zip.zip or inputs/datasets/raw/*.zip.ZIP.\n",
      "\n",
      "No zipfiles found.\n"
     ]
    }
   ],
   "source": [
    "! unzip {DestinationFolder}/*.zip -d {DestinationFolder} \\\n",
    "  && rm {DestinationFolder}/*.zip \\\n",
    "  && rm kaggle.json"
   ]
  },
  {
   "cell_type": "markdown",
   "id": "1072373f",
   "metadata": {},
   "source": [
    "---"
   ]
  },
  {
   "cell_type": "markdown",
   "id": "cd660de3",
   "metadata": {},
   "source": [
    "# Load and Inspect Kaggle data"
   ]
  },
  {
   "cell_type": "code",
   "execution_count": 20,
   "id": "80b02e55",
   "metadata": {},
   "outputs": [
    {
     "data": {
      "text/html": [
       "<div>\n",
       "<style scoped>\n",
       "    .dataframe tbody tr th:only-of-type {\n",
       "        vertical-align: middle;\n",
       "    }\n",
       "\n",
       "    .dataframe tbody tr th {\n",
       "        vertical-align: top;\n",
       "    }\n",
       "\n",
       "    .dataframe thead th {\n",
       "        text-align: right;\n",
       "    }\n",
       "</style>\n",
       "<table border=\"1\" class=\"dataframe\">\n",
       "  <thead>\n",
       "    <tr style=\"text-align: right;\">\n",
       "      <th></th>\n",
       "      <th>1stFlrSF</th>\n",
       "      <th>2ndFlrSF</th>\n",
       "      <th>BedroomAbvGr</th>\n",
       "      <th>BsmtExposure</th>\n",
       "      <th>BsmtFinSF1</th>\n",
       "      <th>BsmtFinType1</th>\n",
       "      <th>BsmtUnfSF</th>\n",
       "      <th>EnclosedPorch</th>\n",
       "      <th>GarageArea</th>\n",
       "      <th>GarageFinish</th>\n",
       "      <th>...</th>\n",
       "      <th>LotFrontage</th>\n",
       "      <th>MasVnrArea</th>\n",
       "      <th>OpenPorchSF</th>\n",
       "      <th>OverallCond</th>\n",
       "      <th>OverallQual</th>\n",
       "      <th>TotalBsmtSF</th>\n",
       "      <th>WoodDeckSF</th>\n",
       "      <th>YearBuilt</th>\n",
       "      <th>YearRemodAdd</th>\n",
       "      <th>SalePrice</th>\n",
       "    </tr>\n",
       "  </thead>\n",
       "  <tbody>\n",
       "    <tr>\n",
       "      <th>0</th>\n",
       "      <td>856</td>\n",
       "      <td>854.0</td>\n",
       "      <td>3.0</td>\n",
       "      <td>No</td>\n",
       "      <td>706</td>\n",
       "      <td>GLQ</td>\n",
       "      <td>150</td>\n",
       "      <td>0.0</td>\n",
       "      <td>548</td>\n",
       "      <td>RFn</td>\n",
       "      <td>...</td>\n",
       "      <td>65.0</td>\n",
       "      <td>196.0</td>\n",
       "      <td>61</td>\n",
       "      <td>5</td>\n",
       "      <td>7</td>\n",
       "      <td>856</td>\n",
       "      <td>0.0</td>\n",
       "      <td>2003</td>\n",
       "      <td>2003</td>\n",
       "      <td>208500</td>\n",
       "    </tr>\n",
       "    <tr>\n",
       "      <th>1</th>\n",
       "      <td>1262</td>\n",
       "      <td>0.0</td>\n",
       "      <td>3.0</td>\n",
       "      <td>Gd</td>\n",
       "      <td>978</td>\n",
       "      <td>ALQ</td>\n",
       "      <td>284</td>\n",
       "      <td>NaN</td>\n",
       "      <td>460</td>\n",
       "      <td>RFn</td>\n",
       "      <td>...</td>\n",
       "      <td>80.0</td>\n",
       "      <td>0.0</td>\n",
       "      <td>0</td>\n",
       "      <td>8</td>\n",
       "      <td>6</td>\n",
       "      <td>1262</td>\n",
       "      <td>NaN</td>\n",
       "      <td>1976</td>\n",
       "      <td>1976</td>\n",
       "      <td>181500</td>\n",
       "    </tr>\n",
       "    <tr>\n",
       "      <th>2</th>\n",
       "      <td>920</td>\n",
       "      <td>866.0</td>\n",
       "      <td>3.0</td>\n",
       "      <td>Mn</td>\n",
       "      <td>486</td>\n",
       "      <td>GLQ</td>\n",
       "      <td>434</td>\n",
       "      <td>0.0</td>\n",
       "      <td>608</td>\n",
       "      <td>RFn</td>\n",
       "      <td>...</td>\n",
       "      <td>68.0</td>\n",
       "      <td>162.0</td>\n",
       "      <td>42</td>\n",
       "      <td>5</td>\n",
       "      <td>7</td>\n",
       "      <td>920</td>\n",
       "      <td>NaN</td>\n",
       "      <td>2001</td>\n",
       "      <td>2002</td>\n",
       "      <td>223500</td>\n",
       "    </tr>\n",
       "    <tr>\n",
       "      <th>3</th>\n",
       "      <td>961</td>\n",
       "      <td>NaN</td>\n",
       "      <td>NaN</td>\n",
       "      <td>No</td>\n",
       "      <td>216</td>\n",
       "      <td>ALQ</td>\n",
       "      <td>540</td>\n",
       "      <td>NaN</td>\n",
       "      <td>642</td>\n",
       "      <td>Unf</td>\n",
       "      <td>...</td>\n",
       "      <td>60.0</td>\n",
       "      <td>0.0</td>\n",
       "      <td>35</td>\n",
       "      <td>5</td>\n",
       "      <td>7</td>\n",
       "      <td>756</td>\n",
       "      <td>NaN</td>\n",
       "      <td>1915</td>\n",
       "      <td>1970</td>\n",
       "      <td>140000</td>\n",
       "    </tr>\n",
       "    <tr>\n",
       "      <th>4</th>\n",
       "      <td>1145</td>\n",
       "      <td>NaN</td>\n",
       "      <td>4.0</td>\n",
       "      <td>Av</td>\n",
       "      <td>655</td>\n",
       "      <td>GLQ</td>\n",
       "      <td>490</td>\n",
       "      <td>0.0</td>\n",
       "      <td>836</td>\n",
       "      <td>RFn</td>\n",
       "      <td>...</td>\n",
       "      <td>84.0</td>\n",
       "      <td>350.0</td>\n",
       "      <td>84</td>\n",
       "      <td>5</td>\n",
       "      <td>8</td>\n",
       "      <td>1145</td>\n",
       "      <td>NaN</td>\n",
       "      <td>2000</td>\n",
       "      <td>2000</td>\n",
       "      <td>250000</td>\n",
       "    </tr>\n",
       "    <tr>\n",
       "      <th>...</th>\n",
       "      <td>...</td>\n",
       "      <td>...</td>\n",
       "      <td>...</td>\n",
       "      <td>...</td>\n",
       "      <td>...</td>\n",
       "      <td>...</td>\n",
       "      <td>...</td>\n",
       "      <td>...</td>\n",
       "      <td>...</td>\n",
       "      <td>...</td>\n",
       "      <td>...</td>\n",
       "      <td>...</td>\n",
       "      <td>...</td>\n",
       "      <td>...</td>\n",
       "      <td>...</td>\n",
       "      <td>...</td>\n",
       "      <td>...</td>\n",
       "      <td>...</td>\n",
       "      <td>...</td>\n",
       "      <td>...</td>\n",
       "      <td>...</td>\n",
       "    </tr>\n",
       "    <tr>\n",
       "      <th>1455</th>\n",
       "      <td>953</td>\n",
       "      <td>694.0</td>\n",
       "      <td>3.0</td>\n",
       "      <td>No</td>\n",
       "      <td>0</td>\n",
       "      <td>Unf</td>\n",
       "      <td>953</td>\n",
       "      <td>NaN</td>\n",
       "      <td>460</td>\n",
       "      <td>RFn</td>\n",
       "      <td>...</td>\n",
       "      <td>62.0</td>\n",
       "      <td>0.0</td>\n",
       "      <td>40</td>\n",
       "      <td>5</td>\n",
       "      <td>6</td>\n",
       "      <td>953</td>\n",
       "      <td>0.0</td>\n",
       "      <td>1999</td>\n",
       "      <td>2000</td>\n",
       "      <td>175000</td>\n",
       "    </tr>\n",
       "    <tr>\n",
       "      <th>1456</th>\n",
       "      <td>2073</td>\n",
       "      <td>0.0</td>\n",
       "      <td>NaN</td>\n",
       "      <td>No</td>\n",
       "      <td>790</td>\n",
       "      <td>ALQ</td>\n",
       "      <td>589</td>\n",
       "      <td>NaN</td>\n",
       "      <td>500</td>\n",
       "      <td>Unf</td>\n",
       "      <td>...</td>\n",
       "      <td>85.0</td>\n",
       "      <td>119.0</td>\n",
       "      <td>0</td>\n",
       "      <td>6</td>\n",
       "      <td>6</td>\n",
       "      <td>1542</td>\n",
       "      <td>NaN</td>\n",
       "      <td>1978</td>\n",
       "      <td>1988</td>\n",
       "      <td>210000</td>\n",
       "    </tr>\n",
       "    <tr>\n",
       "      <th>1457</th>\n",
       "      <td>1188</td>\n",
       "      <td>1152.0</td>\n",
       "      <td>4.0</td>\n",
       "      <td>No</td>\n",
       "      <td>275</td>\n",
       "      <td>GLQ</td>\n",
       "      <td>877</td>\n",
       "      <td>NaN</td>\n",
       "      <td>252</td>\n",
       "      <td>RFn</td>\n",
       "      <td>...</td>\n",
       "      <td>66.0</td>\n",
       "      <td>0.0</td>\n",
       "      <td>60</td>\n",
       "      <td>9</td>\n",
       "      <td>7</td>\n",
       "      <td>1152</td>\n",
       "      <td>NaN</td>\n",
       "      <td>1941</td>\n",
       "      <td>2006</td>\n",
       "      <td>266500</td>\n",
       "    </tr>\n",
       "    <tr>\n",
       "      <th>1458</th>\n",
       "      <td>1078</td>\n",
       "      <td>0.0</td>\n",
       "      <td>2.0</td>\n",
       "      <td>Mn</td>\n",
       "      <td>49</td>\n",
       "      <td>NaN</td>\n",
       "      <td>0</td>\n",
       "      <td>112.0</td>\n",
       "      <td>240</td>\n",
       "      <td>Unf</td>\n",
       "      <td>...</td>\n",
       "      <td>68.0</td>\n",
       "      <td>0.0</td>\n",
       "      <td>0</td>\n",
       "      <td>6</td>\n",
       "      <td>5</td>\n",
       "      <td>1078</td>\n",
       "      <td>NaN</td>\n",
       "      <td>1950</td>\n",
       "      <td>1996</td>\n",
       "      <td>142125</td>\n",
       "    </tr>\n",
       "    <tr>\n",
       "      <th>1459</th>\n",
       "      <td>1256</td>\n",
       "      <td>0.0</td>\n",
       "      <td>3.0</td>\n",
       "      <td>No</td>\n",
       "      <td>830</td>\n",
       "      <td>BLQ</td>\n",
       "      <td>136</td>\n",
       "      <td>0.0</td>\n",
       "      <td>276</td>\n",
       "      <td>Fin</td>\n",
       "      <td>...</td>\n",
       "      <td>75.0</td>\n",
       "      <td>0.0</td>\n",
       "      <td>68</td>\n",
       "      <td>6</td>\n",
       "      <td>5</td>\n",
       "      <td>1256</td>\n",
       "      <td>736.0</td>\n",
       "      <td>1965</td>\n",
       "      <td>1965</td>\n",
       "      <td>147500</td>\n",
       "    </tr>\n",
       "  </tbody>\n",
       "</table>\n",
       "<p>1460 rows × 24 columns</p>\n",
       "</div>"
      ],
      "text/plain": [
       "      1stFlrSF  2ndFlrSF  BedroomAbvGr BsmtExposure  BsmtFinSF1 BsmtFinType1  \\\n",
       "0          856     854.0           3.0           No         706          GLQ   \n",
       "1         1262       0.0           3.0           Gd         978          ALQ   \n",
       "2          920     866.0           3.0           Mn         486          GLQ   \n",
       "3          961       NaN           NaN           No         216          ALQ   \n",
       "4         1145       NaN           4.0           Av         655          GLQ   \n",
       "...        ...       ...           ...          ...         ...          ...   \n",
       "1455       953     694.0           3.0           No           0          Unf   \n",
       "1456      2073       0.0           NaN           No         790          ALQ   \n",
       "1457      1188    1152.0           4.0           No         275          GLQ   \n",
       "1458      1078       0.0           2.0           Mn          49          NaN   \n",
       "1459      1256       0.0           3.0           No         830          BLQ   \n",
       "\n",
       "      BsmtUnfSF  EnclosedPorch  GarageArea GarageFinish  ...  LotFrontage  \\\n",
       "0           150            0.0         548          RFn  ...         65.0   \n",
       "1           284            NaN         460          RFn  ...         80.0   \n",
       "2           434            0.0         608          RFn  ...         68.0   \n",
       "3           540            NaN         642          Unf  ...         60.0   \n",
       "4           490            0.0         836          RFn  ...         84.0   \n",
       "...         ...            ...         ...          ...  ...          ...   \n",
       "1455        953            NaN         460          RFn  ...         62.0   \n",
       "1456        589            NaN         500          Unf  ...         85.0   \n",
       "1457        877            NaN         252          RFn  ...         66.0   \n",
       "1458          0          112.0         240          Unf  ...         68.0   \n",
       "1459        136            0.0         276          Fin  ...         75.0   \n",
       "\n",
       "      MasVnrArea OpenPorchSF  OverallCond  OverallQual  TotalBsmtSF  \\\n",
       "0          196.0          61            5            7          856   \n",
       "1            0.0           0            8            6         1262   \n",
       "2          162.0          42            5            7          920   \n",
       "3            0.0          35            5            7          756   \n",
       "4          350.0          84            5            8         1145   \n",
       "...          ...         ...          ...          ...          ...   \n",
       "1455         0.0          40            5            6          953   \n",
       "1456       119.0           0            6            6         1542   \n",
       "1457         0.0          60            9            7         1152   \n",
       "1458         0.0           0            6            5         1078   \n",
       "1459         0.0          68            6            5         1256   \n",
       "\n",
       "      WoodDeckSF  YearBuilt  YearRemodAdd  SalePrice  \n",
       "0            0.0       2003          2003     208500  \n",
       "1            NaN       1976          1976     181500  \n",
       "2            NaN       2001          2002     223500  \n",
       "3            NaN       1915          1970     140000  \n",
       "4            NaN       2000          2000     250000  \n",
       "...          ...        ...           ...        ...  \n",
       "1455         0.0       1999          2000     175000  \n",
       "1456         NaN       1978          1988     210000  \n",
       "1457         NaN       1941          2006     266500  \n",
       "1458         NaN       1950          1996     142125  \n",
       "1459       736.0       1965          1965     147500  \n",
       "\n",
       "[1460 rows x 24 columns]"
      ]
     },
     "execution_count": 20,
     "metadata": {},
     "output_type": "execute_result"
    }
   ],
   "source": [
    "import pandas as pd\n",
    "df = pd.read_csv(f\"inputs/datasets/raw/house-price-20211124T154130Z-001/house-price/house_prices_records.csv\")\n",
    "df.head(1461)"
   ]
  },
  {
   "cell_type": "markdown",
   "id": "ddbbb7fe",
   "metadata": {},
   "source": [
    "Remove columns with NaN"
   ]
  },
  {
   "cell_type": "code",
   "execution_count": 10,
   "id": "91508240",
   "metadata": {},
   "outputs": [],
   "source": [
    "# df.dropna(axis=1)"
   ]
  },
  {
   "cell_type": "markdown",
   "id": "d0349d2d",
   "metadata": {},
   "source": [
    "This reduces the number of columns which was originally 24 down to 14 (including the sale price)."
   ]
  },
  {
   "cell_type": "markdown",
   "id": "89949a7d",
   "metadata": {},
   "source": [
    "check data"
   ]
  },
  {
   "cell_type": "code",
   "execution_count": 19,
   "id": "4ece594c",
   "metadata": {},
   "outputs": [],
   "source": [
    "\n",
    "#df = df.dropna(axis=1)\n",
    "#df.info()"
   ]
  },
  {
   "cell_type": "code",
   "execution_count": 21,
   "id": "b45612aa",
   "metadata": {},
   "outputs": [
    {
     "name": "stdout",
     "output_type": "stream",
     "text": [
      "<class 'pandas.core.frame.DataFrame'>\n",
      "RangeIndex: 1460 entries, 0 to 1459\n",
      "Data columns (total 24 columns):\n",
      " #   Column         Non-Null Count  Dtype  \n",
      "---  ------         --------------  -----  \n",
      " 0   1stFlrSF       1460 non-null   int64  \n",
      " 1   2ndFlrSF       1374 non-null   float64\n",
      " 2   BedroomAbvGr   1361 non-null   float64\n",
      " 3   BsmtExposure   1422 non-null   object \n",
      " 4   BsmtFinSF1     1460 non-null   int64  \n",
      " 5   BsmtFinType1   1315 non-null   object \n",
      " 6   BsmtUnfSF      1460 non-null   int64  \n",
      " 7   EnclosedPorch  136 non-null    float64\n",
      " 8   GarageArea     1460 non-null   int64  \n",
      " 9   GarageFinish   1225 non-null   object \n",
      " 10  GarageYrBlt    1379 non-null   float64\n",
      " 11  GrLivArea      1460 non-null   int64  \n",
      " 12  KitchenQual    1460 non-null   object \n",
      " 13  LotArea        1460 non-null   int64  \n",
      " 14  LotFrontage    1201 non-null   float64\n",
      " 15  MasVnrArea     1452 non-null   float64\n",
      " 16  OpenPorchSF    1460 non-null   int64  \n",
      " 17  OverallCond    1460 non-null   int64  \n",
      " 18  OverallQual    1460 non-null   int64  \n",
      " 19  TotalBsmtSF    1460 non-null   int64  \n",
      " 20  WoodDeckSF     155 non-null    float64\n",
      " 21  YearBuilt      1460 non-null   int64  \n",
      " 22  YearRemodAdd   1460 non-null   int64  \n",
      " 23  SalePrice      1460 non-null   int64  \n",
      "dtypes: float64(7), int64(13), object(4)\n",
      "memory usage: 273.9+ KB\n"
     ]
    }
   ],
   "source": [
    "df.info()"
   ]
  },
  {
   "cell_type": "markdown",
   "id": "2b79d91f",
   "metadata": {},
   "source": [
    "Converting KitchenQual to numeric"
   ]
  },
  {
   "cell_type": "code",
   "execution_count": null,
   "id": "02b138a5",
   "metadata": {},
   "outputs": [],
   "source": [
    "# df['KitchenQual'] = pd.to_numeric(df['KitchenQual'] ,errors='coerce')"
   ]
  },
  {
   "cell_type": "markdown",
   "id": "0cbc96ac",
   "metadata": {},
   "source": [
    "Check KitchenQual type"
   ]
  },
  {
   "cell_type": "code",
   "execution_count": 22,
   "id": "25593f08",
   "metadata": {},
   "outputs": [
    {
     "data": {
      "text/plain": [
       "dtype('O')"
      ]
     },
     "execution_count": 22,
     "metadata": {},
     "output_type": "execute_result"
    }
   ],
   "source": [
    "df['KitchenQual'].dtype"
   ]
  },
  {
   "cell_type": "markdown",
   "id": "ef372473",
   "metadata": {},
   "source": [
    "# Push files to Repo"
   ]
  },
  {
   "cell_type": "code",
   "execution_count": 23,
   "id": "316f6b1b",
   "metadata": {},
   "outputs": [],
   "source": [
    "import os\n",
    "try:\n",
    "  os.makedirs(name='outputs/datasets/collection') # create outputs/datasets/collection folder\n",
    "except Exception as e:\n",
    "  print(e)\n",
    "\n",
    "df.to_csv(f\"outputs/datasets/collection/HousePriceRecords.csv\",index=False)"
   ]
  }
 ],
 "metadata": {
  "kernelspec": {
   "display_name": "Python 3",
   "language": "python",
   "name": "python3"
  },
  "language_info": {
   "codemirror_mode": {
    "name": "ipython",
    "version": 3
   },
   "file_extension": ".py",
   "mimetype": "text/x-python",
   "name": "python",
   "nbconvert_exporter": "python",
   "pygments_lexer": "ipython3",
   "version": "3.12.1"
  }
 },
 "nbformat": 4,
 "nbformat_minor": 5
}
